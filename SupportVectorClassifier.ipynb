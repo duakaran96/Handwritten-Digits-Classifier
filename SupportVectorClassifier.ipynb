{
  "nbformat": 4,
  "nbformat_minor": 0,
  "metadata": {
    "colab": {
      "name": "SupportVectorClassifier.ipynb",
      "version": "0.3.2",
      "provenance": [],
      "include_colab_link": true
    },
    "kernelspec": {
      "name": "python3",
      "display_name": "Python 3"
    }
  },
  "cells": [
    {
      "cell_type": "markdown",
      "metadata": {
        "id": "view-in-github",
        "colab_type": "text"
      },
      "source": [
        "[View in Colaboratory](https://colab.research.google.com/github/duakaran96/Handwritten-Digits-Classifier/blob/master/SupportVectorClassifier.ipynb)"
      ]
    },
    {
      "metadata": {
        "id": "F1aetWMmMs9j",
        "colab_type": "text"
      },
      "cell_type": "markdown",
      "source": [
        "#Support Vector Machines (Preloaded digits dataset)\n",
        "\n",
        "scikit-learn library comes with a few small datasets that do not require to download from any external website.\n",
        "\n",
        "We'll apply Support Vector Classifier to classify handwritten digits based off the digits dataset under scikit-learn.\n",
        "\n",
        "### Each datapoint in the dataset is a 8 x 8 image of a digit.\n",
        "\n",
        "\n",
        "## Imports\n"
      ]
    },
    {
      "metadata": {
        "id": "xpfxwgB9MWaI",
        "colab_type": "code",
        "colab": {}
      },
      "cell_type": "code",
      "source": [
        "import numpy as np\n",
        "import pandas as pd\n",
        "import seaborn as sns\n",
        "import matplotlib.pyplot as plt\n",
        "%matplotlib inline"
      ],
      "execution_count": 0,
      "outputs": []
    },
    {
      "metadata": {
        "id": "cCF5lgGvM38n",
        "colab_type": "text"
      },
      "cell_type": "markdown",
      "source": [
        "### The code below will load digits dataset."
      ]
    },
    {
      "metadata": {
        "id": "yR-2fHm3M1vo",
        "colab_type": "code",
        "colab": {}
      },
      "cell_type": "code",
      "source": [
        "from sklearn.datasets import load_digits"
      ],
      "execution_count": 0,
      "outputs": []
    },
    {
      "metadata": {
        "id": "xmgHLE1lM64i",
        "colab_type": "code",
        "colab": {}
      },
      "cell_type": "code",
      "source": [
        "digits = load_digits()"
      ],
      "execution_count": 0,
      "outputs": []
    },
    {
      "metadata": {
        "id": "DjSTywwtNDUR",
        "colab_type": "text"
      },
      "cell_type": "markdown",
      "source": [
        "We'll store features ( 8 x 8 pixel information of each handwritten digit image) into X, a numpy array\n",
        "and target (denoting the digit) into y, also a numpy array"
      ]
    },
    {
      "metadata": {
        "id": "-_Oo4I9aM84z",
        "colab_type": "code",
        "colab": {}
      },
      "cell_type": "code",
      "source": [
        "X = digits.data"
      ],
      "execution_count": 0,
      "outputs": []
    },
    {
      "metadata": {
        "id": "HjOuqnPbNI6t",
        "colab_type": "code",
        "colab": {}
      },
      "cell_type": "code",
      "source": [
        "y = digits.target"
      ],
      "execution_count": 0,
      "outputs": []
    },
    {
      "metadata": {
        "id": "bBRlCZSANK8h",
        "colab_type": "code",
        "colab": {
          "base_uri": "https://localhost:8080/",
          "height": 55
        },
        "outputId": "a2f771d6-3319-4c35-96c5-f04d0b7fdb7f"
      },
      "cell_type": "code",
      "source": [
        "print(X.shape)\n",
        "print(y.shape)"
      ],
      "execution_count": 6,
      "outputs": [
        {
          "output_type": "stream",
          "text": [
            "(1797, 64)\n",
            "(1797,)\n"
          ],
          "name": "stdout"
        }
      ]
    },
    {
      "metadata": {
        "id": "FDle_UohNiG4",
        "colab_type": "text"
      },
      "cell_type": "markdown",
      "source": [
        "### Let's view some of the images stored under data.images[]\n",
        "\n",
        "We'll view images with the help of matplotlib's matshow()"
      ]
    },
    {
      "metadata": {
        "id": "rfJmf_3tNeCZ",
        "colab_type": "code",
        "colab": {
          "base_uri": "https://localhost:8080/",
          "height": 290
        },
        "outputId": "be5d886b-afb5-4ad6-9332-5969d7e0fcbe"
      },
      "cell_type": "code",
      "source": [
        "plt.gray()\n",
        "plt.matshow(digits.images[0])\n",
        "plt.show()"
      ],
      "execution_count": 7,
      "outputs": [
        {
          "output_type": "display_data",
          "data": {
            "text/plain": [
              "<matplotlib.figure.Figure at 0x7fbc9ca274a8>"
            ]
          },
          "metadata": {
            "tags": []
          }
        },
        {
          "output_type": "display_data",
          "data": {
            "image/png": "[encoded data removed]",
            "text/plain": [
              "<matplotlib.figure.Figure at 0x7fbc9ca272b0>"
            ]
          },
          "metadata": {
            "tags": []
          }
        }
      ]
    },
    {
      "metadata": {
        "id": "J0e2XtvKNlvl",
        "colab_type": "code",
        "colab": {
          "base_uri": "https://localhost:8080/",
          "height": 290
        },
        "outputId": "b41141e7-5099-46dc-8b6d-0ef852cc7af1"
      },
      "cell_type": "code",
      "source": [
        "plt.gray()\n",
        "plt.matshow(digits.images[21])\n",
        "plt.show()"
      ],
      "execution_count": 8,
      "outputs": [
        {
          "output_type": "display_data",
          "data": {
            "text/plain": [
              "<matplotlib.figure.Figure at 0x7fbc9ca27cc0>"
            ]
          },
          "metadata": {
            "tags": []
          }
        },
        {
          "output_type": "display_data",
          "data": {
            "image/png": "[encoded data removed]",
            "text/plain": [
              "<matplotlib.figure.Figure at 0x7fbc9ca27828>"
            ]
          },
          "metadata": {
            "tags": []
          }
        }
      ]
    },
    {
      "metadata": {
        "id": "SoJt-IF-NnrC",
        "colab_type": "code",
        "colab": {
          "base_uri": "https://localhost:8080/",
          "height": 290
        },
        "outputId": "b685460e-199a-4cd1-8717-fffcbf02f160"
      },
      "cell_type": "code",
      "source": [
        "plt.gray()\n",
        "plt.matshow(digits.images[1796])\n",
        "plt.show()"
      ],
      "execution_count": 9,
      "outputs": [
        {
          "output_type": "display_data",
          "data": {
            "text/plain": [
              "<matplotlib.figure.Figure at 0x7fbc9ccc6080>"
            ]
          },
          "metadata": {
            "tags": []
          }
        },
        {
          "output_type": "display_data",
          "data": {
            "image/png": "[encoded data removed]",
            "text/plain": [
              "<matplotlib.figure.Figure at 0x7fbc9ccc6048>"
            ]
          },
          "metadata": {
            "tags": []
          }
        }
      ]
    },
    {
      "metadata": {
        "id": "rAw-yMzmNwsy",
        "colab_type": "text"
      },
      "cell_type": "markdown",
      "source": [
        "# Building a SVM model\n",
        "\n",
        "## Train Test Split"
      ]
    },
    {
      "metadata": {
        "id": "OIY3S-LCNqIy",
        "colab_type": "code",
        "colab": {}
      },
      "cell_type": "code",
      "source": [
        "from sklearn.model_selection import train_test_split"
      ],
      "execution_count": 0,
      "outputs": []
    },
    {
      "metadata": {
        "id": "_BaZJRGKOJ_T",
        "colab_type": "code",
        "colab": {}
      },
      "cell_type": "code",
      "source": [
        "X_train, X_test, y_train, y_test = train_test_split(X, y, test_size=0.4, random_state=42)"
      ],
      "execution_count": 0,
      "outputs": []
    },
    {
      "metadata": {
        "id": "nAqczXt-Ofdc",
        "colab_type": "code",
        "colab": {
          "base_uri": "https://localhost:8080/",
          "height": 36
        },
        "outputId": "9f4163a6-86a6-458a-d578-fc16fb73dd63"
      },
      "cell_type": "code",
      "source": [
        "print(X_train.shape)"
      ],
      "execution_count": 12,
      "outputs": [
        {
          "output_type": "stream",
          "text": [
            "(1078, 64)\n"
          ],
          "name": "stdout"
        }
      ]
    },
    {
      "metadata": {
        "id": "C8oSdRc1Oqkv",
        "colab_type": "text"
      },
      "cell_type": "markdown",
      "source": [
        "## Creating and Training the Model"
      ]
    },
    {
      "metadata": {
        "id": "NTE-zAO-WSw2",
        "colab_type": "text"
      },
      "cell_type": "markdown",
      "source": [
        "We'll go on and try for each kernel, and look for which kernel gives the best results"
      ]
    },
    {
      "metadata": {
        "id": "5QRYu8lmOjiH",
        "colab_type": "code",
        "colab": {}
      },
      "cell_type": "code",
      "source": [
        "from sklearn.svm import SVC"
      ],
      "execution_count": 0,
      "outputs": []
    },
    {
      "metadata": {
        "id": "Nhf6KhOxWcRa",
        "colab_type": "text"
      },
      "cell_type": "markdown",
      "source": [
        "### Linear kernel"
      ]
    },
    {
      "metadata": {
        "id": "mMffv9CLPBzv",
        "colab_type": "code",
        "colab": {}
      },
      "cell_type": "code",
      "source": [
        "linear = SVC(kernel='linear')"
      ],
      "execution_count": 0,
      "outputs": []
    },
    {
      "metadata": {
        "id": "eHn0L8aOPVGP",
        "colab_type": "code",
        "colab": {
          "base_uri": "https://localhost:8080/",
          "height": 92
        },
        "outputId": "e23c93d2-1ddd-460e-90d2-87f2ebb94512"
      },
      "cell_type": "code",
      "source": [
        "linear.fit(X_train, y_train)"
      ],
      "execution_count": 15,
      "outputs": [
        {
          "output_type": "execute_result",
          "data": {
            "text/plain": [
              "SVC(C=1.0, cache_size=200, class_weight=None, coef0=0.0,\n",
              "  decision_function_shape='ovr', degree=3, gamma='auto', kernel='linear',\n",
              "  max_iter=-1, probability=False, random_state=None, shrinking=True,\n",
              "  tol=0.001, verbose=False)"
            ]
          },
          "metadata": {
            "tags": []
          },
          "execution_count": 15
        }
      ]
    },
    {
      "metadata": {
        "id": "8yX7Z9yFWwOn",
        "colab_type": "text"
      },
      "cell_type": "markdown",
      "source": [
        "### Predictions"
      ]
    },
    {
      "metadata": {
        "id": "h7v4UXEcPYq6",
        "colab_type": "code",
        "colab": {}
      },
      "cell_type": "code",
      "source": [
        "linearPred = linear.predict(X_test)"
      ],
      "execution_count": 0,
      "outputs": []
    },
    {
      "metadata": {
        "id": "9GJRr2dpXMEQ",
        "colab_type": "text"
      },
      "cell_type": "markdown",
      "source": [
        "### Evaluation"
      ]
    },
    {
      "metadata": {
        "id": "wWs8yAZRPdAP",
        "colab_type": "code",
        "colab": {}
      },
      "cell_type": "code",
      "source": [
        "from sklearn.metrics import confusion_matrix, classification_report, accuracy_score"
      ],
      "execution_count": 0,
      "outputs": []
    },
    {
      "metadata": {
        "id": "4J_rbgAYPoEN",
        "colab_type": "code",
        "colab": {
          "base_uri": "https://localhost:8080/",
          "height": 36
        },
        "outputId": "2a59097e-5c75-451f-ca00-3f3fcd29c1b4"
      },
      "cell_type": "code",
      "source": [
        "print('Accuracy score with linear kernel:', accuracy_score(y_test, linearPred))"
      ],
      "execution_count": 18,
      "outputs": [
        {
          "output_type": "stream",
          "text": [
            "Accuracy score with linear kernel: 0.9833101529902643\n"
          ],
          "name": "stdout"
        }
      ]
    },
    {
      "metadata": {
        "id": "PTYFetpaPzVO",
        "colab_type": "code",
        "colab": {
          "base_uri": "https://localhost:8080/",
          "height": 225
        },
        "outputId": "14d7c387-71a4-47ff-f1b9-c9a07532ee9a"
      },
      "cell_type": "code",
      "source": [
        "linearCM = confusion_matrix(y_test, linearPred)\n",
        "print('Confusion Matrix with linear kernel')\n",
        "print(linearCM)"
      ],
      "execution_count": 19,
      "outputs": [
        {
          "output_type": "stream",
          "text": [
            "Confusion Matrix with linear kernel\n",
            "[[67  0  0  0  0  0  0  0  0  0]\n",
            " [ 0 71  0  0  1  0  0  0  0  0]\n",
            " [ 0  0 66  0  0  0  0  0  0  0]\n",
            " [ 0  0  0 69  0  1  0  0  1  0]\n",
            " [ 0  0  0  0 78  0  0  0  0  0]\n",
            " [ 0  0  0  0  0 81  0  1  0  1]\n",
            " [ 0  0  0  0  0  0 69  0  0  0]\n",
            " [ 0  0  0  0  0  0  0 70  0  1]\n",
            " [ 0  3  0  0  0  1  0  0 61  0]\n",
            " [ 0  0  0  1  1  0  0  0  0 75]]\n"
          ],
          "name": "stdout"
        }
      ]
    },
    {
      "metadata": {
        "id": "n_0MwF2nQd5U",
        "colab_type": "text"
      },
      "cell_type": "markdown",
      "source": [
        "In a nicer way using seaborn heatmap, confusion matrix can be viewed as below:"
      ]
    },
    {
      "metadata": {
        "id": "CvbJFPF3Qcow",
        "colab_type": "code",
        "colab": {
          "base_uri": "https://localhost:8080/",
          "height": 478
        },
        "outputId": "67d04482-3556-4a7f-9f51-568ba9cdcf07"
      },
      "cell_type": "code",
      "source": [
        "plt.figure(figsize=(7,7))\n",
        "sns.heatmap(linearCM, annot=True, fmt=\".3f\", linewidths=.5, square = True, cmap = 'viridis', cbar=False)\n",
        "plt.ylabel('Actual label')\n",
        "plt.xlabel('Predicted label')\n",
        "title = 'Accuracy Score: '+str(accuracy_score(y_test, linearPred))\n",
        "plt.title(title, size = 15)"
      ],
      "execution_count": 21,
      "outputs": [
        {
          "output_type": "execute_result",
          "data": {
            "text/plain": [
              "Text(0.5,1,'Accuracy Score: 0.9833101529902643')"
            ]
          },
          "metadata": {
            "tags": []
          },
          "execution_count": 21
        },
        {
          "output_type": "display_data",
          "data": {
            "image/png": "[encoded data removed]",
            "text/plain": [
              "<matplotlib.figure.Figure at 0x7fbc9cb33160>"
            ]
          },
          "metadata": {
            "tags": []
          }
        }
      ]
    },
    {
      "metadata": {
        "id": "UPuXxKXCQHZ1",
        "colab_type": "code",
        "colab": {
          "base_uri": "https://localhost:8080/",
          "height": 319
        },
        "outputId": "7cc95f13-3fc0-4967-cd48-358bd3aaeab4"
      },
      "cell_type": "code",
      "source": [
        "print('Classification report taking linear kernel')\n",
        "print(classification_report(y_test, linearPred))"
      ],
      "execution_count": 20,
      "outputs": [
        {
          "output_type": "stream",
          "text": [
            "Classification report taking linear kernel\n",
            "             precision    recall  f1-score   support\n",
            "\n",
            "          0       1.00      1.00      1.00        67\n",
            "          1       0.96      0.99      0.97        72\n",
            "          2       1.00      1.00      1.00        66\n",
            "          3       0.99      0.97      0.98        71\n",
            "          4       0.97      1.00      0.99        78\n",
            "          5       0.98      0.98      0.98        83\n",
            "          6       1.00      1.00      1.00        69\n",
            "          7       0.99      0.99      0.99        71\n",
            "          8       0.98      0.94      0.96        65\n",
            "          9       0.97      0.97      0.97        77\n",
            "\n",
            "avg / total       0.98      0.98      0.98       719\n",
            "\n"
          ],
          "name": "stdout"
        }
      ]
    },
    {
      "metadata": {
        "id": "CxoGCE_XWiCw",
        "colab_type": "text"
      },
      "cell_type": "markdown",
      "source": [
        "### Poly kernel"
      ]
    },
    {
      "metadata": {
        "id": "J7pUGLGeQQed",
        "colab_type": "code",
        "colab": {}
      },
      "cell_type": "code",
      "source": [
        "poly = SVC(kernel='poly')"
      ],
      "execution_count": 0,
      "outputs": []
    },
    {
      "metadata": {
        "id": "WgkEEWWbQ7Ba",
        "colab_type": "code",
        "colab": {
          "base_uri": "https://localhost:8080/",
          "height": 92
        },
        "outputId": "d48c4ec5-5ca1-4b11-d2d8-39db64f98954"
      },
      "cell_type": "code",
      "source": [
        "poly.fit(X_train, y_train)"
      ],
      "execution_count": 23,
      "outputs": [
        {
          "output_type": "execute_result",
          "data": {
            "text/plain": [
              "SVC(C=1.0, cache_size=200, class_weight=None, coef0=0.0,\n",
              "  decision_function_shape='ovr', degree=3, gamma='auto', kernel='poly',\n",
              "  max_iter=-1, probability=False, random_state=None, shrinking=True,\n",
              "  tol=0.001, verbose=False)"
            ]
          },
          "metadata": {
            "tags": []
          },
          "execution_count": 23
        }
      ]
    },
    {
      "metadata": {
        "id": "-UW_jsYVW0ot",
        "colab_type": "text"
      },
      "cell_type": "markdown",
      "source": [
        "### Predictions"
      ]
    },
    {
      "metadata": {
        "id": "BkxPLqqlQ_zk",
        "colab_type": "code",
        "colab": {}
      },
      "cell_type": "code",
      "source": [
        "polyPred = poly.predict(X_test)"
      ],
      "execution_count": 0,
      "outputs": []
    },
    {
      "metadata": {
        "id": "6BzTRSH9XJVK",
        "colab_type": "text"
      },
      "cell_type": "markdown",
      "source": [
        "### Evaluation"
      ]
    },
    {
      "metadata": {
        "id": "_SstbpSoRDk-",
        "colab_type": "code",
        "colab": {
          "base_uri": "https://localhost:8080/",
          "height": 36
        },
        "outputId": "a6682b1c-89c7-4b02-896c-2bd5ce9f274d"
      },
      "cell_type": "code",
      "source": [
        "print('Accuracy score with poly kernel:', accuracy_score(y_test, polyPred))"
      ],
      "execution_count": 25,
      "outputs": [
        {
          "output_type": "stream",
          "text": [
            "Accuracy score with poly kernel: 0.9902642559109874\n"
          ],
          "name": "stdout"
        }
      ]
    },
    {
      "metadata": {
        "id": "2UIpBuOCRIw0",
        "colab_type": "code",
        "colab": {
          "base_uri": "https://localhost:8080/",
          "height": 497
        },
        "outputId": "81cb4fc1-020c-4a64-b5ab-d41bbc3ca11b"
      },
      "cell_type": "code",
      "source": [
        "polyCM = confusion_matrix(y_test, polyPred)\n",
        "print('Confusion Matrix with poly kernel')\n",
        "\n",
        "plt.figure(figsize=(7,7))\n",
        "sns.heatmap(polyCM, annot=True, fmt=\".3f\", linewidths=.5, square = True, cmap = 'viridis', cbar=False)\n",
        "plt.ylabel('Actual label')\n",
        "plt.xlabel('Predicted label')\n",
        "title = 'Accuracy Score: '+str(accuracy_score(y_test, polyPred))\n",
        "plt.title(title, size = 15)"
      ],
      "execution_count": 35,
      "outputs": [
        {
          "output_type": "stream",
          "text": [
            "Confusion Matrix with poly kernel\n"
          ],
          "name": "stdout"
        },
        {
          "output_type": "execute_result",
          "data": {
            "text/plain": [
              "Text(0.5,1,'Accuracy Score: 0.9902642559109874')"
            ]
          },
          "metadata": {
            "tags": []
          },
          "execution_count": 35
        },
        {
          "output_type": "display_data",
          "data": {
            "image/png": "[encoded data removed]",
            "text/plain": [
              "<matplotlib.figure.Figure at 0x7fbc984ea5c0>"
            ]
          },
          "metadata": {
            "tags": []
          }
        }
      ]
    },
    {
      "metadata": {
        "id": "gJ8SjQVjRUtq",
        "colab_type": "code",
        "colab": {
          "base_uri": "https://localhost:8080/",
          "height": 319
        },
        "outputId": "8cb11e80-b8c6-4ae3-f576-0811e57ce5bc"
      },
      "cell_type": "code",
      "source": [
        "print('Classification report taking poly kernel')\n",
        "print(classification_report(y_test, polyPred))"
      ],
      "execution_count": 27,
      "outputs": [
        {
          "output_type": "stream",
          "text": [
            "Classification report taking poly kernel\n",
            "             precision    recall  f1-score   support\n",
            "\n",
            "          0       1.00      1.00      1.00        67\n",
            "          1       0.99      1.00      0.99        72\n",
            "          2       1.00      1.00      1.00        66\n",
            "          3       0.99      0.97      0.98        71\n",
            "          4       1.00      1.00      1.00        78\n",
            "          5       0.99      0.99      0.99        83\n",
            "          6       1.00      1.00      1.00        69\n",
            "          7       0.99      0.99      0.99        71\n",
            "          8       0.98      0.98      0.98        65\n",
            "          9       0.97      0.97      0.97        77\n",
            "\n",
            "avg / total       0.99      0.99      0.99       719\n",
            "\n"
          ],
          "name": "stdout"
        }
      ]
    },
    {
      "metadata": {
        "id": "4PtB7GtPWmgC",
        "colab_type": "text"
      },
      "cell_type": "markdown",
      "source": [
        "### Sigmoid kernel"
      ]
    },
    {
      "metadata": {
        "id": "V7Jq2ZqKRbpD",
        "colab_type": "code",
        "colab": {}
      },
      "cell_type": "code",
      "source": [
        "sigmoid = SVC(kernel='sigmoid')"
      ],
      "execution_count": 0,
      "outputs": []
    },
    {
      "metadata": {
        "id": "S30_z9jaSlB9",
        "colab_type": "code",
        "colab": {
          "base_uri": "https://localhost:8080/",
          "height": 92
        },
        "outputId": "c11640e0-bf7b-42d7-fc9a-aaffe792419e"
      },
      "cell_type": "code",
      "source": [
        "sigmoid.fit(X_train, y_train)"
      ],
      "execution_count": 29,
      "outputs": [
        {
          "output_type": "execute_result",
          "data": {
            "text/plain": [
              "SVC(C=1.0, cache_size=200, class_weight=None, coef0=0.0,\n",
              "  decision_function_shape='ovr', degree=3, gamma='auto', kernel='sigmoid',\n",
              "  max_iter=-1, probability=False, random_state=None, shrinking=True,\n",
              "  tol=0.001, verbose=False)"
            ]
          },
          "metadata": {
            "tags": []
          },
          "execution_count": 29
        }
      ]
    },
    {
      "metadata": {
        "id": "pjqXFFdCW3VB",
        "colab_type": "text"
      },
      "cell_type": "markdown",
      "source": [
        "### Predictions"
      ]
    },
    {
      "metadata": {
        "id": "wg4v6X6jSppR",
        "colab_type": "code",
        "colab": {}
      },
      "cell_type": "code",
      "source": [
        "sigmoidPred = sigmoid.predict(X_test)"
      ],
      "execution_count": 0,
      "outputs": []
    },
    {
      "metadata": {
        "id": "CJGltQcsXGwE",
        "colab_type": "text"
      },
      "cell_type": "markdown",
      "source": [
        "### Evaluation"
      ]
    },
    {
      "metadata": {
        "id": "fCCZzLg7SxvZ",
        "colab_type": "code",
        "colab": {
          "base_uri": "https://localhost:8080/",
          "height": 36
        },
        "outputId": "28a8230a-ca73-475a-dde4-92bd2907b6cf"
      },
      "cell_type": "code",
      "source": [
        "print('Accuracy score with sigmoid kernel:', accuracy_score(y_test, sigmoidPred))"
      ],
      "execution_count": 31,
      "outputs": [
        {
          "output_type": "stream",
          "text": [
            "Accuracy score with sigmoid kernel: 0.09735744089012517\n"
          ],
          "name": "stdout"
        }
      ]
    },
    {
      "metadata": {
        "id": "ypHfnQSuS40C",
        "colab_type": "code",
        "colab": {
          "base_uri": "https://localhost:8080/",
          "height": 497
        },
        "outputId": "755fddd7-ace7-4635-cc74-8bee229ec811"
      },
      "cell_type": "code",
      "source": [
        "sigmoidCM = confusion_matrix(y_test, sigmoidPred)\n",
        "print('Confusion Matrix with sigmoid kernel')\n",
        "\n",
        "plt.figure(figsize=(7,7))\n",
        "sns.heatmap(sigmoidCM, annot=True, fmt=\".3f\", linewidths=.5, square = True, cmap = 'viridis', cbar=False)\n",
        "plt.ylabel('Actual label')\n",
        "plt.xlabel('Predicted label')\n",
        "title = 'Accuracy Score: '+str(accuracy_score(y_test, sigmoidPred))\n",
        "plt.title(title, size = 15)"
      ],
      "execution_count": 32,
      "outputs": [
        {
          "output_type": "stream",
          "text": [
            "Confusion Matrix with sigmoid kernel\n"
          ],
          "name": "stdout"
        },
        {
          "output_type": "execute_result",
          "data": {
            "text/plain": [
              "Text(0.5,1,'Accuracy Score: 0.09735744089012517')"
            ]
          },
          "metadata": {
            "tags": []
          },
          "execution_count": 32
        },
        {
          "output_type": "display_data",
          "data": {
            "image/png": "[encoded data removed]",
            "text/plain": [
              "<matplotlib.figure.Figure at 0x7fbc98691390>"
            ]
          },
          "metadata": {
            "tags": []
          }
        }
      ]
    },
    {
      "metadata": {
        "id": "9vY6ZNunTKLt",
        "colab_type": "code",
        "colab": {
          "base_uri": "https://localhost:8080/",
          "height": 377
        },
        "outputId": "8fdf0977-0b93-4a80-869e-749c4991a9a6"
      },
      "cell_type": "code",
      "source": [
        "print('Classification report taking sigmoid kernel')\n",
        "print(classification_report(y_test, sigmoidPred))"
      ],
      "execution_count": 34,
      "outputs": [
        {
          "output_type": "stream",
          "text": [
            "Classification report taking sigmoid kernel\n",
            "             precision    recall  f1-score   support\n",
            "\n",
            "          0       0.00      0.00      0.00        67\n",
            "          1       0.00      0.00      0.00        72\n",
            "          2       0.00      0.00      0.00        66\n",
            "          3       0.25      0.01      0.03        71\n",
            "          4       0.00      0.00      0.00        78\n",
            "          5       0.00      0.00      0.00        83\n",
            "          6       0.10      1.00      0.18        69\n",
            "          7       0.00      0.00      0.00        71\n",
            "          8       0.00      0.00      0.00        65\n",
            "          9       0.00      0.00      0.00        77\n",
            "\n",
            "avg / total       0.03      0.10      0.02       719\n",
            "\n"
          ],
          "name": "stdout"
        },
        {
          "output_type": "stream",
          "text": [
            "/usr/local/lib/python3.6/dist-packages/sklearn/metrics/classification.py:1135: UndefinedMetricWarning: Precision and F-score are ill-defined and being set to 0.0 in labels with no predicted samples.\n",
            "  'precision', 'predicted', average, warn_for)\n"
          ],
          "name": "stderr"
        }
      ]
    },
    {
      "metadata": {
        "id": "wM7WJ81kWppG",
        "colab_type": "text"
      },
      "cell_type": "markdown",
      "source": [
        "### Gaussian rbf kernel"
      ]
    },
    {
      "metadata": {
        "id": "oZZKwTeWTZ1A",
        "colab_type": "code",
        "colab": {}
      },
      "cell_type": "code",
      "source": [
        "gaussian = SVC(kernel='rbf')"
      ],
      "execution_count": 0,
      "outputs": []
    },
    {
      "metadata": {
        "id": "1AIWL9zVVGne",
        "colab_type": "code",
        "colab": {
          "base_uri": "https://localhost:8080/",
          "height": 92
        },
        "outputId": "3f14736e-b14f-4686-e9f4-b7c9b2e9f86b"
      },
      "cell_type": "code",
      "source": [
        "gaussian.fit(X_train, y_train)"
      ],
      "execution_count": 39,
      "outputs": [
        {
          "output_type": "execute_result",
          "data": {
            "text/plain": [
              "SVC(C=1.0, cache_size=200, class_weight=None, coef0=0.0,\n",
              "  decision_function_shape='ovr', degree=3, gamma='auto', kernel='rbf',\n",
              "  max_iter=-1, probability=False, random_state=None, shrinking=True,\n",
              "  tol=0.001, verbose=False)"
            ]
          },
          "metadata": {
            "tags": []
          },
          "execution_count": 39
        }
      ]
    },
    {
      "metadata": {
        "id": "ZunL2OjiW5jW",
        "colab_type": "text"
      },
      "cell_type": "markdown",
      "source": [
        "### Predictions"
      ]
    },
    {
      "metadata": {
        "id": "KKd9fwqSVSi5",
        "colab_type": "code",
        "colab": {}
      },
      "cell_type": "code",
      "source": [
        "gaussianPred = gaussian.predict(X_test)"
      ],
      "execution_count": 0,
      "outputs": []
    },
    {
      "metadata": {
        "id": "-gMBBOzwXC4a",
        "colab_type": "text"
      },
      "cell_type": "markdown",
      "source": [
        "### Evaluation"
      ]
    },
    {
      "metadata": {
        "id": "UPlhT1wDVnDP",
        "colab_type": "code",
        "colab": {
          "base_uri": "https://localhost:8080/",
          "height": 36
        },
        "outputId": "1ddec582-1ec8-4a8b-c4d8-9f24c11cc3a3"
      },
      "cell_type": "code",
      "source": [
        "print('Accuracy score with gaussian rbf kernel:', accuracy_score(y_test, gaussianPred))"
      ],
      "execution_count": 41,
      "outputs": [
        {
          "output_type": "stream",
          "text": [
            "Accuracy score with gaussian rbf kernel: 0.4631432545201669\n"
          ],
          "name": "stdout"
        }
      ]
    },
    {
      "metadata": {
        "id": "JS9tZSUNVvNS",
        "colab_type": "code",
        "colab": {
          "base_uri": "https://localhost:8080/",
          "height": 497
        },
        "outputId": "d1c8c426-dd68-4321-9cee-36b40ccf978d"
      },
      "cell_type": "code",
      "source": [
        "gaussianCM = confusion_matrix(y_test, gaussianPred)\n",
        "print('Confusion Matrix with gaussian rbf kernel')\n",
        "\n",
        "plt.figure(figsize=(7,7))\n",
        "sns.heatmap(gaussianCM, annot=True, fmt=\".3f\", linewidths=.5, square = True, cmap = 'viridis', cbar=False)\n",
        "plt.ylabel('Actual label')\n",
        "plt.xlabel('Predicted label')\n",
        "title = 'Accuracy Score: '+str(accuracy_score(y_test, gaussianPred))\n",
        "plt.title(title, size = 15)"
      ],
      "execution_count": 42,
      "outputs": [
        {
          "output_type": "stream",
          "text": [
            "Confusion Matrix with gaussian rbf kernel\n"
          ],
          "name": "stdout"
        },
        {
          "output_type": "execute_result",
          "data": {
            "text/plain": [
              "Text(0.5,1,'Accuracy Score: 0.4631432545201669')"
            ]
          },
          "metadata": {
            "tags": []
          },
          "execution_count": 42
        },
        {
          "output_type": "display_data",
          "data": {
            "image/png": "[encoded data removed]",
            "text/plain": [
              "<matplotlib.figure.Figure at 0x7fbc981ff160>"
            ]
          },
          "metadata": {
            "tags": []
          }
        }
      ]
    },
    {
      "metadata": {
        "id": "N84yrb3WV6ga",
        "colab_type": "code",
        "colab": {
          "base_uri": "https://localhost:8080/",
          "height": 377
        },
        "outputId": "2b60a335-eed9-41bb-fde3-ce6156373a33"
      },
      "cell_type": "code",
      "source": [
        "print('Classification report taking gaussian rbf kernel')\n",
        "print(classification_report(y_test, gaussianPred))"
      ],
      "execution_count": 43,
      "outputs": [
        {
          "output_type": "stream",
          "text": [
            "Classification report taking gaussian rbf kernel\n",
            "             precision    recall  f1-score   support\n",
            "\n",
            "          0       1.00      0.48      0.65        67\n",
            "          1       1.00      0.46      0.63        72\n",
            "          2       1.00      0.67      0.80        66\n",
            "          3       0.16      1.00      0.27        71\n",
            "          4       1.00      0.26      0.41        78\n",
            "          5       0.00      0.00      0.00        83\n",
            "          6       1.00      0.77      0.87        69\n",
            "          7       1.00      0.55      0.71        71\n",
            "          8       1.00      0.46      0.63        65\n",
            "          9       1.00      0.14      0.25        77\n",
            "\n",
            "avg / total       0.80      0.46      0.50       719\n",
            "\n"
          ],
          "name": "stdout"
        },
        {
          "output_type": "stream",
          "text": [
            "/usr/local/lib/python3.6/dist-packages/sklearn/metrics/classification.py:1135: UndefinedMetricWarning: Precision and F-score are ill-defined and being set to 0.0 in labels with no predicted samples.\n",
            "  'precision', 'predicted', average, warn_for)\n"
          ],
          "name": "stderr"
        }
      ]
    },
    {
      "metadata": {
        "id": "pvS-ecP3XR3U",
        "colab_type": "text"
      },
      "cell_type": "markdown",
      "source": [
        "## CONCLUSION"
      ]
    },
    {
      "metadata": {
        "id": "tKLUUXwvXVQ4",
        "colab_type": "text"
      },
      "cell_type": "markdown",
      "source": [
        "After trying different types of kernels on our Support Vector Classifier model, i.e. **'linear',  'poly', 'sigmoid', 'rbf'** , we conclude here that for our problem of *classifying handwritten digits* based off preloaded *digits* dataset that comes with **scikit-learn library**, the **'poly'** and **'linear'** did the job very well with an accuracy_score of 0.9902 and 0.9833 respectively."
      ]
    },
    {
      "metadata": {
        "id": "-G88rUq7WBFY",
        "colab_type": "code",
        "colab": {}
      },
      "cell_type": "code",
      "source": [
        ""
      ],
      "execution_count": 0,
      "outputs": []
    }
  ]
}