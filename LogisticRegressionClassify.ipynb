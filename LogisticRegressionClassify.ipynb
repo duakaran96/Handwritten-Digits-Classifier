{
  "nbformat": 4,
  "nbformat_minor": 0,
  "metadata": {
    "colab": {
      "name": "DigitsClassify.ipynb",
      "version": "0.3.2",
      "provenance": []
    },
    "kernelspec": {
      "name": "python3",
      "display_name": "Python 3"
    },
    "accelerator": "GPU"
  },
  "cells": [
    {
      "cell_type": "markdown",
      "metadata": {
        "id": "view-in-github",
        "colab_type": "text"
      },
      "source": [
        "[View in Colaboratory](https://colab.research.google.com/github/duakaran96/Handwritten-Digits-Classifier/blob/master/DigitsClassify.ipynb)"
      ]
    },
    {
      "metadata": {
        "id": "FKSgrLG45FRg",
        "colab_type": "text"
      },
      "cell_type": "markdown",
      "source": [
        "# Logistic Regression (Preloaded digits dataset)\n",
        "\n",
        "scikit-learn library comes with a few small datasets that do not require to download from any external website.\n",
        "\n",
        "We'll apply Logistic Regression to classify handwritten digits based off the digits dataset under scikit-learn.\n",
        "\n",
        "### Each datapoint in the dataset is a 8 x 8 image of a digit.\n",
        "\n",
        "\n",
        "## Imports"
      ]
    },
    {
      "metadata": {
        "id": "UOkW0TmFSVT-",
        "colab_type": "code",
        "colab": {}
      },
      "cell_type": "code",
      "source": [
        "import numpy as np\n",
        "import pandas as pd\n",
        "import seaborn as sns\n",
        "import matplotlib.pyplot as plt\n",
        "%matplotlib inline"
      ],
      "execution_count": 0,
      "outputs": []
    },
    {
      "metadata": {
        "id": "l9YbDPv96MM1",
        "colab_type": "text"
      },
      "cell_type": "markdown",
      "source": [
        "### The code below will load digits dataset."
      ]
    },
    {
      "metadata": {
        "id": "EinB1xQxSpsl",
        "colab_type": "code",
        "colab": {}
      },
      "cell_type": "code",
      "source": [
        "from sklearn.datasets import load_digits"
      ],
      "execution_count": 0,
      "outputs": []
    },
    {
      "metadata": {
        "id": "dLJKtAdtTCmV",
        "colab_type": "code",
        "colab": {}
      },
      "cell_type": "code",
      "source": [
        "digits = load_digits()"
      ],
      "execution_count": 0,
      "outputs": []
    },
    {
      "metadata": {
        "id": "q69mCGtW6WL2",
        "colab_type": "text"
      },
      "cell_type": "markdown",
      "source": [
        "We'll store features ( 8 x 8 pixel information of each handwritten digit image) into X, a numpy array\n",
        "and target (denoting the digit) into y, also a numpy array"
      ]
    },
    {
      "metadata": {
        "id": "ZffJQetDTj5S",
        "colab_type": "code",
        "colab": {}
      },
      "cell_type": "code",
      "source": [
        "X = digits.data"
      ],
      "execution_count": 0,
      "outputs": []
    },
    {
      "metadata": {
        "id": "sIizDJorUQhR",
        "colab_type": "code",
        "colab": {
          "base_uri": "https://localhost:8080/",
          "height": 36
        },
        "outputId": "5499c696-6fb6-4cca-d2db-acf534f2db10"
      },
      "cell_type": "code",
      "source": [
        "type(X)"
      ],
      "execution_count": 5,
      "outputs": [
        {
          "output_type": "execute_result",
          "data": {
            "text/plain": [
              "numpy.ndarray"
            ]
          },
          "metadata": {
            "tags": []
          },
          "execution_count": 5
        }
      ]
    },
    {
      "metadata": {
        "id": "AGfo6iJKUSu_",
        "colab_type": "code",
        "colab": {}
      },
      "cell_type": "code",
      "source": [
        "y = digits.target"
      ],
      "execution_count": 0,
      "outputs": []
    },
    {
      "metadata": {
        "id": "XedjGhmeUcec",
        "colab_type": "code",
        "colab": {
          "base_uri": "https://localhost:8080/",
          "height": 36
        },
        "outputId": "c8fdd7fd-1b91-4715-c21f-bf6a7adf5bc4"
      },
      "cell_type": "code",
      "source": [
        "type(y)"
      ],
      "execution_count": 7,
      "outputs": [
        {
          "output_type": "execute_result",
          "data": {
            "text/plain": [
              "numpy.ndarray"
            ]
          },
          "metadata": {
            "tags": []
          },
          "execution_count": 7
        }
      ]
    },
    {
      "metadata": {
        "id": "MymlZ6LuUfPf",
        "colab_type": "code",
        "colab": {
          "base_uri": "https://localhost:8080/",
          "height": 36
        },
        "outputId": "a1b16346-12d9-4fb3-cecb-6d838d6c3f0d"
      },
      "cell_type": "code",
      "source": [
        "X.shape"
      ],
      "execution_count": 8,
      "outputs": [
        {
          "output_type": "execute_result",
          "data": {
            "text/plain": [
              "(1797, 64)"
            ]
          },
          "metadata": {
            "tags": []
          },
          "execution_count": 8
        }
      ]
    },
    {
      "metadata": {
        "id": "jNsB25EqUj47",
        "colab_type": "code",
        "colab": {
          "base_uri": "https://localhost:8080/",
          "height": 36
        },
        "outputId": "2f2bec91-18cb-4e1d-9087-b7e72799ce9f"
      },
      "cell_type": "code",
      "source": [
        "y.shape"
      ],
      "execution_count": 9,
      "outputs": [
        {
          "output_type": "execute_result",
          "data": {
            "text/plain": [
              "(1797,)"
            ]
          },
          "metadata": {
            "tags": []
          },
          "execution_count": 9
        }
      ]
    },
    {
      "metadata": {
        "id": "dozk_kr663EJ",
        "colab_type": "text"
      },
      "cell_type": "markdown",
      "source": [
        "### Let's view some of the images stored under data.images[]\n",
        "\n",
        "We'll view images with the help of matplotlib's matshow()"
      ]
    },
    {
      "metadata": {
        "id": "haHHhAOz5A-i",
        "colab_type": "code",
        "colab": {
          "base_uri": "https://localhost:8080/",
          "height": 290
        },
        "outputId": "aa406af3-05d4-474c-ea73-b6d87d6de2d0"
      },
      "cell_type": "code",
      "source": [
        "plt.gray()\n",
        "plt.matshow(digits.images[0])\n",
        "plt.show()"
      ],
      "execution_count": 10,
      "outputs": [
        {
          "output_type": "display_data",
          "data": {
            "text/plain": [
              "<matplotlib.figure.Figure at 0x7f6b37e6d908>"
            ]
          },
          "metadata": {
            "tags": []
          }
        },
        {
          "output_type": "display_data",
          "data": {
            "image/png": "[encoded data removed]",
            "text/plain": [
              "<matplotlib.figure.Figure at 0x7f6b37e6d8d0>"
            ]
          },
          "metadata": {
            "tags": []
          }
        }
      ]
    },
    {
      "metadata": {
        "id": "y9zuk0vqUoMG",
        "colab_type": "code",
        "colab": {
          "base_uri": "https://localhost:8080/",
          "height": 290
        },
        "outputId": "f731d0da-f939-496f-ac6f-e2fc30a460bb"
      },
      "cell_type": "code",
      "source": [
        "plt.gray()\n",
        "plt.matshow(digits.images[1])\n",
        "plt.show()"
      ],
      "execution_count": 11,
      "outputs": [
        {
          "output_type": "display_data",
          "data": {
            "text/plain": [
              "<matplotlib.figure.Figure at 0x7f6b37e6dd30>"
            ]
          },
          "metadata": {
            "tags": []
          }
        },
        {
          "output_type": "display_data",
          "data": {
            "image/png": "[encoded data removed]",
            "text/plain": [
              "<matplotlib.figure.Figure at 0x7f6b37e6dd68>"
            ]
          },
          "metadata": {
            "tags": []
          }
        }
      ]
    },
    {
      "metadata": {
        "id": "QdzDnyu0ZZGA",
        "colab_type": "code",
        "colab": {
          "base_uri": "https://localhost:8080/",
          "height": 290
        },
        "outputId": "c2bb4982-34e8-449c-d89b-c0d0dd44ae34"
      },
      "cell_type": "code",
      "source": [
        "plt.gray()\n",
        "plt.matshow(digits.images[9])\n",
        "plt.show()"
      ],
      "execution_count": 12,
      "outputs": [
        {
          "output_type": "display_data",
          "data": {
            "text/plain": [
              "<matplotlib.figure.Figure at 0x7f6b380af1d0>"
            ]
          },
          "metadata": {
            "tags": []
          }
        },
        {
          "output_type": "display_data",
          "data": {
            "image/png": "[encoded data removed]",
            "text/plain": [
              "<matplotlib.figure.Figure at 0x7f6b380af3c8>"
            ]
          },
          "metadata": {
            "tags": []
          }
        }
      ]
    },
    {
      "metadata": {
        "id": "kyKNJVoS7auG",
        "colab_type": "text"
      },
      "cell_type": "markdown",
      "source": [
        "# Building a Logistic Regression model\n",
        "\n",
        "## Train Test Split"
      ]
    },
    {
      "metadata": {
        "id": "Lvo8QhW1a8sq",
        "colab_type": "code",
        "colab": {}
      },
      "cell_type": "code",
      "source": [
        "from sklearn.model_selection import train_test_split"
      ],
      "execution_count": 0,
      "outputs": []
    },
    {
      "metadata": {
        "id": "f2pCoHuNbH8U",
        "colab_type": "code",
        "colab": {}
      },
      "cell_type": "code",
      "source": [
        "X_train, X_test, y_train, y_test = train_test_split(X, y, test_size=0.3, random_state=101)"
      ],
      "execution_count": 0,
      "outputs": []
    },
    {
      "metadata": {
        "id": "TlDKgxh-bTxX",
        "colab_type": "code",
        "colab": {
          "base_uri": "https://localhost:8080/",
          "height": 36
        },
        "outputId": "2a1fe508-e6a5-4533-fe53-7ac179711121"
      },
      "cell_type": "code",
      "source": [
        "X_train.shape"
      ],
      "execution_count": 15,
      "outputs": [
        {
          "output_type": "execute_result",
          "data": {
            "text/plain": [
              "(1257, 64)"
            ]
          },
          "metadata": {
            "tags": []
          },
          "execution_count": 15
        }
      ]
    },
    {
      "metadata": {
        "id": "FM-cWaOn7t-4",
        "colab_type": "text"
      },
      "cell_type": "markdown",
      "source": [
        "## Creating and Training the Model"
      ]
    },
    {
      "metadata": {
        "id": "AIPF1J8-bWXL",
        "colab_type": "code",
        "colab": {}
      },
      "cell_type": "code",
      "source": [
        "from sklearn.linear_model import LogisticRegression"
      ],
      "execution_count": 0,
      "outputs": []
    },
    {
      "metadata": {
        "id": "fMAa9lv_bd3A",
        "colab_type": "code",
        "colab": {}
      },
      "cell_type": "code",
      "source": [
        "log = LogisticRegression()"
      ],
      "execution_count": 0,
      "outputs": []
    },
    {
      "metadata": {
        "id": "pdu82RIKbnKs",
        "colab_type": "code",
        "colab": {
          "base_uri": "https://localhost:8080/",
          "height": 92
        },
        "outputId": "6522937f-7a38-471c-c6fb-6faef43cc721"
      },
      "cell_type": "code",
      "source": [
        "log.fit(X_train, y_train)"
      ],
      "execution_count": 18,
      "outputs": [
        {
          "output_type": "execute_result",
          "data": {
            "text/plain": [
              "LogisticRegression(C=1.0, class_weight=None, dual=False, fit_intercept=True,\n",
              "          intercept_scaling=1, max_iter=100, multi_class='ovr', n_jobs=1,\n",
              "          penalty='l2', random_state=None, solver='liblinear', tol=0.0001,\n",
              "          verbose=0, warm_start=False)"
            ]
          },
          "metadata": {
            "tags": []
          },
          "execution_count": 18
        }
      ]
    },
    {
      "metadata": {
        "id": "OrTILxs87zn-",
        "colab_type": "text"
      },
      "cell_type": "markdown",
      "source": [
        "##  Predictions from our Model\n",
        "\n",
        "Let's grab predictions off our test set and see how well it did!\n"
      ]
    },
    {
      "metadata": {
        "id": "3rK2To3lbq-9",
        "colab_type": "code",
        "colab": {}
      },
      "cell_type": "code",
      "source": [
        "predictions = log.predict(X_test)"
      ],
      "execution_count": 0,
      "outputs": []
    },
    {
      "metadata": {
        "id": "d5pHW-1u7__X",
        "colab_type": "text"
      },
      "cell_type": "markdown",
      "source": [
        "## Model Evaluation\n",
        "Let's Evaluate our model by checking some evaluation metrics!"
      ]
    },
    {
      "metadata": {
        "id": "ybsRG8Anb3GQ",
        "colab_type": "code",
        "colab": {
          "base_uri": "https://localhost:8080/",
          "height": 55
        },
        "outputId": "119a20e0-fb95-4a1e-810b-415d88172382"
      },
      "cell_type": "code",
      "source": [
        "print('Score:')\n",
        "score = log.score(X_test, y_test)\n",
        "score"
      ],
      "execution_count": 29,
      "outputs": [
        {
          "output_type": "stream",
          "text": [
            "Score:\n"
          ],
          "name": "stdout"
        },
        {
          "output_type": "execute_result",
          "data": {
            "text/plain": [
              "0.9685185185185186"
            ]
          },
          "metadata": {
            "tags": []
          },
          "execution_count": 29
        }
      ]
    },
    {
      "metadata": {
        "id": "kR-ld-sHcQwV",
        "colab_type": "code",
        "colab": {}
      },
      "cell_type": "code",
      "source": [
        "import sklearn.metrics as met"
      ],
      "execution_count": 0,
      "outputs": []
    },
    {
      "metadata": {
        "id": "eqYAkoQP8Pys",
        "colab_type": "text"
      },
      "cell_type": "markdown",
      "source": [
        "Calculating Prediction probability for each prediction made by the model\n",
        "\n",
        "Passing it into **log_loss** function and printing out the log_loss"
      ]
    },
    {
      "metadata": {
        "id": "1X75RnN-cqpc",
        "colab_type": "code",
        "colab": {
          "base_uri": "https://localhost:8080/",
          "height": 36
        },
        "outputId": "f59113b3-598c-46fd-ca05-095e1b38ef47"
      },
      "cell_type": "code",
      "source": [
        "predprob = log.predict_proba(X_test)\n",
        "logLoss = met.log_loss(y_test, predprob)\n",
        "print('Log loss: '+str(logLoss))"
      ],
      "execution_count": 22,
      "outputs": [
        {
          "output_type": "stream",
          "text": [
            "Log loss: 0.16877359836747335\n"
          ],
          "name": "stdout"
        }
      ]
    },
    {
      "metadata": {
        "id": "sHqpSq528qvr",
        "colab_type": "text"
      },
      "cell_type": "markdown",
      "source": [
        "### Checking out other evaluation metrics"
      ]
    },
    {
      "metadata": {
        "id": "Rcd2lYbXChS3",
        "colab_type": "code",
        "colab": {
          "base_uri": "https://localhost:8080/",
          "height": 55
        },
        "outputId": "df3a06ef-2f45-432f-c222-11240da6d91e"
      },
      "cell_type": "code",
      "source": [
        "print('Accuracy Score: ')\n",
        "met.accuracy_score(y_test, predictions)"
      ],
      "execution_count": 30,
      "outputs": [
        {
          "output_type": "stream",
          "text": [
            "Accuracy Score: \n"
          ],
          "name": "stdout"
        },
        {
          "output_type": "execute_result",
          "data": {
            "text/plain": [
              "0.9685185185185186"
            ]
          },
          "metadata": {
            "tags": []
          },
          "execution_count": 30
        }
      ]
    },
    {
      "metadata": {
        "id": "MVnmeJKqlcNU",
        "colab_type": "code",
        "colab": {
          "base_uri": "https://localhost:8080/",
          "height": 36
        },
        "outputId": "931a2c05-9db0-404a-9da2-310bbb26cd8b"
      },
      "cell_type": "code",
      "source": [
        "R2_score = met.r2_score(y_test, predictions)\n",
        "print('R2 Score:' +str(R2_score))"
      ],
      "execution_count": 23,
      "outputs": [
        {
          "output_type": "stream",
          "text": [
            "R2 Score:0.9510678957408394\n"
          ],
          "name": "stdout"
        }
      ]
    },
    {
      "metadata": {
        "id": "YBbE-BLW3GzL",
        "colab_type": "code",
        "colab": {
          "base_uri": "https://localhost:8080/",
          "height": 36
        },
        "outputId": "7f8c50a3-19be-4954-ec05-61dc8e807752"
      },
      "cell_type": "code",
      "source": [
        "mae = met.mean_absolute_error(y_test, predictions)\n",
        "print('Mean Absolute Error: '+str(mae))"
      ],
      "execution_count": 24,
      "outputs": [
        {
          "output_type": "stream",
          "text": [
            "Mean Absolute Error: 0.09444444444444444\n"
          ],
          "name": "stdout"
        }
      ]
    },
    {
      "metadata": {
        "id": "DN3afJel3VA_",
        "colab_type": "code",
        "colab": {
          "base_uri": "https://localhost:8080/",
          "height": 36
        },
        "outputId": "521cedae-d791-434c-df5f-353cb6581a4d"
      },
      "cell_type": "code",
      "source": [
        "mse = met.mean_squared_error(y_test, predictions)\n",
        "print('Mean Squared Error: '+str(mse))"
      ],
      "execution_count": 25,
      "outputs": [
        {
          "output_type": "stream",
          "text": [
            "Mean Squared Error: 0.39444444444444443\n"
          ],
          "name": "stdout"
        }
      ]
    },
    {
      "metadata": {
        "id": "09yPlF2m3ZCV",
        "colab_type": "code",
        "colab": {
          "base_uri": "https://localhost:8080/",
          "height": 225
        },
        "outputId": "4726c40a-7e58-42de-b6e9-43ee1f16f7b8"
      },
      "cell_type": "code",
      "source": [
        "cm = met.confusion_matrix(y_test, predictions)\n",
        "print('Confusion Matrix')\n",
        "cm"
      ],
      "execution_count": 26,
      "outputs": [
        {
          "output_type": "stream",
          "text": [
            "Confusion Matrix\n"
          ],
          "name": "stdout"
        },
        {
          "output_type": "execute_result",
          "data": {
            "text/plain": [
              "array([[53,  0,  0,  0,  0,  0,  0,  0,  0,  0],\n",
              "       [ 0, 52,  0,  1,  0,  0,  1,  0,  1,  0],\n",
              "       [ 0,  0, 49,  0,  0,  0,  0,  0,  0,  0],\n",
              "       [ 0,  0,  0, 54,  0,  0,  0,  0,  0,  0],\n",
              "       [ 0,  2,  0,  0, 59,  0,  0,  0,  0,  0],\n",
              "       [ 0,  0,  0,  0,  0, 57,  0,  1,  1,  0],\n",
              "       [ 0,  0,  0,  0,  0,  0, 45,  0,  1,  0],\n",
              "       [ 0,  0,  0,  0,  2,  0,  0, 54,  0,  0],\n",
              "       [ 0,  1,  0,  1,  0,  0,  0,  0, 55,  2],\n",
              "       [ 0,  0,  0,  0,  0,  0,  0,  1,  2, 45]])"
            ]
          },
          "metadata": {
            "tags": []
          },
          "execution_count": 26
        }
      ]
    },
    {
      "metadata": {
        "id": "QKJctIlj81g-",
        "colab_type": "text"
      },
      "cell_type": "markdown",
      "source": [
        "In a nicer way, we can view our confusion matrix as a seaborn heatmap below:"
      ]
    },
    {
      "metadata": {
        "id": "TNZo8GDC3iEm",
        "colab_type": "code",
        "colab": {
          "base_uri": "https://localhost:8080/",
          "height": 478
        },
        "outputId": "7c52d5be-0a85-4322-a0ab-878033eb4d83"
      },
      "cell_type": "code",
      "source": [
        "plt.figure(figsize=(7,7))\n",
        "sns.heatmap(cm, annot=True, fmt=\".3f\", linewidths=.5, square = True, cmap = 'viridis', cbar=False)\n",
        "plt.ylabel('Actual label')\n",
        "plt.xlabel('Predicted label')\n",
        "title = 'Accuracy Score: '+str(score)\n",
        "plt.title(title, size = 15)"
      ],
      "execution_count": 27,
      "outputs": [
        {
          "output_type": "execute_result",
          "data": {
            "text/plain": [
              "Text(0.5,1,'Accuracy Score: 0.9685185185185186')"
            ]
          },
          "metadata": {
            "tags": []
          },
          "execution_count": 27
        },
        {
          "output_type": "display_data",
          "data": {
            "image/png": "[encoded data removed]",
            "text/plain": [
              "<matplotlib.figure.Figure at 0x7f6b33ae15c0>"
            ]
          },
          "metadata": {
            "tags": []
          }
        }
      ]
    },
    {
      "metadata": {
        "id": "q9GIzJa89hFI",
        "colab_type": "code",
        "colab": {
          "base_uri": "https://localhost:8080/",
          "height": 319
        },
        "outputId": "18f89551-214c-4614-aebe-9fbd1c58f06c"
      },
      "cell_type": "code",
      "source": [
        "print('Classification Report: ')\n",
        "cr = met.classification_report(y_test, predictions)\n",
        "print(cr)"
      ],
      "execution_count": 28,
      "outputs": [
        {
          "output_type": "stream",
          "text": [
            "Classification Report: \n",
            "             precision    recall  f1-score   support\n",
            "\n",
            "          0       1.00      1.00      1.00        53\n",
            "          1       0.95      0.95      0.95        55\n",
            "          2       1.00      1.00      1.00        49\n",
            "          3       0.96      1.00      0.98        54\n",
            "          4       0.97      0.97      0.97        61\n",
            "          5       1.00      0.97      0.98        59\n",
            "          6       0.98      0.98      0.98        46\n",
            "          7       0.96      0.96      0.96        56\n",
            "          8       0.92      0.93      0.92        59\n",
            "          9       0.96      0.94      0.95        48\n",
            "\n",
            "avg / total       0.97      0.97      0.97       540\n",
            "\n"
          ],
          "name": "stdout"
        }
      ]
    },
    {
      "metadata": {
        "id": "0g0c6Jkc-n6R",
        "colab_type": "code",
        "colab": {}
      },
      "cell_type": "code",
      "source": [
        ""
      ],
      "execution_count": 0,
      "outputs": []
    }
  ]
}
