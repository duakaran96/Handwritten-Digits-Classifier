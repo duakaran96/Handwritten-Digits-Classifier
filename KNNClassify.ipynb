{
  "nbformat": 4,
  "nbformat_minor": 0,
  "metadata": {
    "colab": {
      "name": "KNNClassify.ipynb",
      "version": "0.3.2",
      "provenance": []
    },
    "kernelspec": {
      "name": "python3",
      "display_name": "Python 3"
    }
  },
  "cells": [
    {
      "cell_type": "markdown",
      "metadata": {
        "id": "view-in-github",
        "colab_type": "text"
      },
      "source": [
        "[View in Colaboratory](https://colab.research.google.com/github/duakaran96/Handwritten-Digits-Classifier/blob/master/KNNClassify.ipynb)"
      ]
    },
    {
      "metadata": {
        "id": "_IGMRgviZSjE",
        "colab_type": "text"
      },
      "cell_type": "markdown",
      "source": [
        "# K - Nearest Neighbours (Preloaded digits dataset)\n",
        "\n",
        "scikit-learn library comes with a few small datasets that do not require to download from any external website.\n",
        "\n",
        "We'll apply KNN to classify handwritten digits based off the digits dataset under scikit-learn.\n",
        "\n",
        "### Each datapoint in the dataset is a 8 x 8 image of a digit.\n",
        "\n",
        "\n",
        "## Imports"
      ]
    },
    {
      "metadata": {
        "id": "vyZYH-dUZHBe",
        "colab_type": "code",
        "colab": {}
      },
      "cell_type": "code",
      "source": [
        "import numpy as np\n",
        "import pandas as pd\n",
        "import seaborn as sns\n",
        "import matplotlib.pyplot as plt\n",
        "%matplotlib inline"
      ],
      "execution_count": 0,
      "outputs": []
    },
    {
      "metadata": {
        "id": "ZwkzAhBiZgYK",
        "colab_type": "text"
      },
      "cell_type": "markdown",
      "source": [
        "### The code below will load digits dataset."
      ]
    },
    {
      "metadata": {
        "id": "jrCu3h5LZb_U",
        "colab_type": "code",
        "colab": {}
      },
      "cell_type": "code",
      "source": [
        "from sklearn.datasets import load_digits\n",
        "digits = load_digits()"
      ],
      "execution_count": 0,
      "outputs": []
    },
    {
      "metadata": {
        "id": "kjFlLnQ8Zm6Q",
        "colab_type": "code",
        "colab": {}
      },
      "cell_type": "code",
      "source": [
        "X = digits.data\n",
        "y = digits.target"
      ],
      "execution_count": 0,
      "outputs": []
    },
    {
      "metadata": {
        "id": "uhbN8412Zsgc",
        "colab_type": "code",
        "colab": {
          "base_uri": "https://localhost:8080/",
          "height": 36
        },
        "outputId": "62872c64-505d-4840-c96e-3d5fb3aefbe8"
      },
      "cell_type": "code",
      "source": [
        "X.shape"
      ],
      "execution_count": 4,
      "outputs": [
        {
          "output_type": "execute_result",
          "data": {
            "text/plain": [
              "(1797, 64)"
            ]
          },
          "metadata": {
            "tags": []
          },
          "execution_count": 4
        }
      ]
    },
    {
      "metadata": {
        "id": "cxHjUdMVZuNL",
        "colab_type": "code",
        "colab": {
          "base_uri": "https://localhost:8080/",
          "height": 36
        },
        "outputId": "912dbef8-f25a-4f77-c701-8a2002936faf"
      },
      "cell_type": "code",
      "source": [
        "y.shape"
      ],
      "execution_count": 5,
      "outputs": [
        {
          "output_type": "execute_result",
          "data": {
            "text/plain": [
              "(1797,)"
            ]
          },
          "metadata": {
            "tags": []
          },
          "execution_count": 5
        }
      ]
    },
    {
      "metadata": {
        "id": "e4Dlk6a_cO4v",
        "colab_type": "text"
      },
      "cell_type": "markdown",
      "source": [
        "### Let's view some of the images stored under data.images[]\n",
        "\n",
        "We'll view images with the help of matplotlib's matshow()"
      ]
    },
    {
      "metadata": {
        "id": "Jz0wp-Q4Zv0n",
        "colab_type": "code",
        "colab": {
          "base_uri": "https://localhost:8080/",
          "height": 290
        },
        "outputId": "5311b5f0-616e-4ded-8202-c4151ffe731d"
      },
      "cell_type": "code",
      "source": [
        "plt.gray()\n",
        "plt.matshow(digits.images[0])\n",
        "plt.show()"
      ],
      "execution_count": 6,
      "outputs": [
        {
          "output_type": "display_data",
          "data": {
            "text/plain": [
              "<matplotlib.figure.Figure at 0x7fdb58b7aac8>"
            ]
          },
          "metadata": {
            "tags": []
          }
        },
        {
          "output_type": "display_data",
          "data": {
            "image/png": "[encoded data removed]",
            "text/plain": [
              "<matplotlib.figure.Figure at 0x7fdb58b7aa90>"
            ]
          },
          "metadata": {
            "tags": []
          }
        }
      ]
    },
    {
      "metadata": {
        "id": "HylF6utkZzOm",
        "colab_type": "code",
        "colab": {
          "base_uri": "https://localhost:8080/",
          "height": 290
        },
        "outputId": "8e436de4-2736-4142-8799-d16fa99efa58"
      },
      "cell_type": "code",
      "source": [
        "plt.gray()\n",
        "plt.matshow(digits.images[1])\n",
        "plt.show()"
      ],
      "execution_count": 7,
      "outputs": [
        {
          "output_type": "display_data",
          "data": {
            "text/plain": [
              "<matplotlib.figure.Figure at 0x7fdb584a3ba8>"
            ]
          },
          "metadata": {
            "tags": []
          }
        },
        {
          "output_type": "display_data",
          "data": {
            "image/png": "[encoded data removed]",
            "text/plain": [
              "<matplotlib.figure.Figure at 0x7fdb584a3940>"
            ]
          },
          "metadata": {
            "tags": []
          }
        }
      ]
    },
    {
      "metadata": {
        "id": "d6nKj7utZ1fO",
        "colab_type": "code",
        "colab": {
          "base_uri": "https://localhost:8080/",
          "height": 290
        },
        "outputId": "72df007b-6242-4f21-cae6-7ff0fe19383f"
      },
      "cell_type": "code",
      "source": [
        "plt.gray()\n",
        "plt.matshow(digits.images[13])\n",
        "plt.show()"
      ],
      "execution_count": 8,
      "outputs": [
        {
          "output_type": "display_data",
          "data": {
            "text/plain": [
              "<matplotlib.figure.Figure at 0x7fdb58712b38>"
            ]
          },
          "metadata": {
            "tags": []
          }
        },
        {
          "output_type": "display_data",
          "data": {
            "image/png": "[encoded data removed]",
            "text/plain": [
              "<matplotlib.figure.Figure at 0x7fdb58712a58>"
            ]
          },
          "metadata": {
            "tags": []
          }
        }
      ]
    },
    {
      "metadata": {
        "id": "lENx57cxcVLY",
        "colab_type": "text"
      },
      "cell_type": "markdown",
      "source": [
        "# Building a KNN model\n",
        "\n",
        "## Train Test Split"
      ]
    },
    {
      "metadata": {
        "id": "OR3xK8bAZ-RZ",
        "colab_type": "code",
        "colab": {}
      },
      "cell_type": "code",
      "source": [
        "from sklearn.model_selection import train_test_split"
      ],
      "execution_count": 0,
      "outputs": []
    },
    {
      "metadata": {
        "id": "K7FNX9RDaGgq",
        "colab_type": "code",
        "colab": {}
      },
      "cell_type": "code",
      "source": [
        "X_train, X_test, y_train, y_test = train_test_split(X, y, test_size=0.3, random_state=101)"
      ],
      "execution_count": 0,
      "outputs": []
    },
    {
      "metadata": {
        "id": "hTjIlwqaaSLQ",
        "colab_type": "code",
        "colab": {
          "base_uri": "https://localhost:8080/",
          "height": 36
        },
        "outputId": "326de433-59f9-470b-b85a-c779b377a33e"
      },
      "cell_type": "code",
      "source": [
        "X_train.shape"
      ],
      "execution_count": 11,
      "outputs": [
        {
          "output_type": "execute_result",
          "data": {
            "text/plain": [
              "(1257, 64)"
            ]
          },
          "metadata": {
            "tags": []
          },
          "execution_count": 11
        }
      ]
    },
    {
      "metadata": {
        "id": "vA600p0XcaEL",
        "colab_type": "text"
      },
      "cell_type": "markdown",
      "source": [
        "## Creating and Training the Model"
      ]
    },
    {
      "metadata": {
        "id": "shCt0WvnaVwZ",
        "colab_type": "code",
        "colab": {}
      },
      "cell_type": "code",
      "source": [
        "from sklearn.neighbors import KNeighborsClassifier"
      ],
      "execution_count": 0,
      "outputs": []
    },
    {
      "metadata": {
        "id": "-PFQ5HLxagpg",
        "colab_type": "code",
        "colab": {}
      },
      "cell_type": "code",
      "source": [
        "neigh = KNeighborsClassifier()"
      ],
      "execution_count": 0,
      "outputs": []
    },
    {
      "metadata": {
        "id": "2-Fqq-CSalR0",
        "colab_type": "code",
        "colab": {
          "base_uri": "https://localhost:8080/",
          "height": 74
        },
        "outputId": "1fe1f8ad-a48f-4871-a580-a1513f761545"
      },
      "cell_type": "code",
      "source": [
        "neigh.fit(X_train, y_train)"
      ],
      "execution_count": 15,
      "outputs": [
        {
          "output_type": "execute_result",
          "data": {
            "text/plain": [
              "KNeighborsClassifier(algorithm='auto', leaf_size=30, metric='minkowski',\n",
              "           metric_params=None, n_jobs=1, n_neighbors=5, p=2,\n",
              "           weights='uniform')"
            ]
          },
          "metadata": {
            "tags": []
          },
          "execution_count": 15
        }
      ]
    },
    {
      "metadata": {
        "id": "dgzsAeM1ch0f",
        "colab_type": "text"
      },
      "cell_type": "markdown",
      "source": [
        "##  Predictions from our Model\n",
        "\n",
        "Let's grab predictions off our test set and see how well it did!\n"
      ]
    },
    {
      "metadata": {
        "id": "l9j10vmzaoey",
        "colab_type": "code",
        "colab": {}
      },
      "cell_type": "code",
      "source": [
        "predictions = neigh.predict(X_test)"
      ],
      "execution_count": 0,
      "outputs": []
    },
    {
      "metadata": {
        "id": "Xf0_fm5ccntX",
        "colab_type": "text"
      },
      "cell_type": "markdown",
      "source": [
        "## Model Evaluation\n",
        "Let's Evaluate our model by checking some evaluation metrics!"
      ]
    },
    {
      "metadata": {
        "id": "JHxYSORJax_f",
        "colab_type": "code",
        "colab": {
          "base_uri": "https://localhost:8080/",
          "height": 55
        },
        "outputId": "3463c99e-88f3-48d3-832a-19d835cf51d9"
      },
      "cell_type": "code",
      "source": [
        "print('Score:')\n",
        "score = neigh.score(X_test, y_test)\n",
        "score"
      ],
      "execution_count": 17,
      "outputs": [
        {
          "output_type": "stream",
          "text": [
            "Score:\n"
          ],
          "name": "stdout"
        },
        {
          "output_type": "execute_result",
          "data": {
            "text/plain": [
              "0.987037037037037"
            ]
          },
          "metadata": {
            "tags": []
          },
          "execution_count": 17
        }
      ]
    },
    {
      "metadata": {
        "id": "Izdb1Zc4bBIZ",
        "colab_type": "code",
        "colab": {
          "base_uri": "https://localhost:8080/",
          "height": 225
        },
        "outputId": "8a9b4de6-e19f-4d15-ee89-7f0a6d457839"
      },
      "cell_type": "code",
      "source": [
        "from sklearn.metrics import confusion_matrix\n",
        "cm = confusion_matrix(y_test, predictions)\n",
        "print('Confusion Matrix:')\n",
        "cm"
      ],
      "execution_count": 18,
      "outputs": [
        {
          "output_type": "stream",
          "text": [
            "Confusion Matrix:\n"
          ],
          "name": "stdout"
        },
        {
          "output_type": "execute_result",
          "data": {
            "text/plain": [
              "array([[53,  0,  0,  0,  0,  0,  0,  0,  0,  0],\n",
              "       [ 0, 54,  0,  0,  0,  1,  0,  0,  0,  0],\n",
              "       [ 0,  0, 49,  0,  0,  0,  0,  0,  0,  0],\n",
              "       [ 0,  0,  0, 54,  0,  0,  0,  0,  0,  0],\n",
              "       [ 0,  0,  0,  0, 60,  0,  0,  1,  0,  0],\n",
              "       [ 0,  0,  0,  0,  0, 58,  0,  0,  0,  1],\n",
              "       [ 0,  1,  0,  0,  0,  0, 45,  0,  0,  0],\n",
              "       [ 0,  0,  0,  0,  0,  0,  0, 56,  0,  0],\n",
              "       [ 0,  2,  0,  0,  0,  0,  1,  0, 56,  0],\n",
              "       [ 0,  0,  0,  0,  0,  0,  0,  0,  0, 48]])"
            ]
          },
          "metadata": {
            "tags": []
          },
          "execution_count": 18
        }
      ]
    },
    {
      "metadata": {
        "id": "d1uZsVqZctAs",
        "colab_type": "text"
      },
      "cell_type": "markdown",
      "source": [
        "In a nicer way, we can view our confusion matrix as a seaborn heatmap below:"
      ]
    },
    {
      "metadata": {
        "id": "UiHk9AqxbsJC",
        "colab_type": "code",
        "colab": {
          "base_uri": "https://localhost:8080/",
          "height": 478
        },
        "outputId": "cdc69c1e-6558-4979-91e6-959ccad1a91c"
      },
      "cell_type": "code",
      "source": [
        "plt.figure(figsize=(7,7))\n",
        "sns.heatmap(cm, annot=True, fmt=\".3f\", linewidths=.5, square = True, cmap = 'Pastel1', cbar=False)\n",
        "plt.ylabel('Actual label')\n",
        "plt.xlabel('Predicted label')\n",
        "title = 'Accuracy Score: '+str(score)\n",
        "plt.title(title, size = 15)"
      ],
      "execution_count": 21,
      "outputs": [
        {
          "output_type": "execute_result",
          "data": {
            "text/plain": [
              "Text(0.5,1,'Accuracy Score: 0.987037037037037')"
            ]
          },
          "metadata": {
            "tags": []
          },
          "execution_count": 21
        },
        {
          "output_type": "display_data",
          "data": {
            "image/png": "[encoded data removed]",
            "text/plain": [
              "<matplotlib.figure.Figure at 0x7fdb55472048>"
            ]
          },
          "metadata": {
            "tags": []
          }
        }
      ]
    },
    {
      "metadata": {
        "id": "aQhhRR0HbwQN",
        "colab_type": "code",
        "colab": {}
      },
      "cell_type": "code",
      "source": [
        ""
      ],
      "execution_count": 0,
      "outputs": []
    }
  ]
}